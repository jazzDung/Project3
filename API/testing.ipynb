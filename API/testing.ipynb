{
 "cells": [
  {
   "cell_type": "code",
   "execution_count": 2,
   "metadata": {},
   "outputs": [],
   "source": [
    "from vnstock import *\n",
    "import pandas as pd\n",
    "import numpy as np\n",
    "import re\n",
    "import datetime\n",
    "from pathlib import Path"
   ]
  },
  {
   "cell_type": "code",
   "execution_count": 4,
   "metadata": {},
   "outputs": [],
   "source": [
    "def get_data():\n",
    "    company_list = listing_companies()\n",
    "    tickers = company_list[\"ticker\"].sort_values().values.tolist()\n",
    "    for ticker in tickers:\n",
    "        if len(ticker) > 3:\n",
    "            tickers.remove(ticker)\n",
    "            \n",
    "    return tickers\n",
    "\n",
    "def data_to_txt():\n",
    "    ticker = get_data()\n",
    "    ticker_full = str(ticker)[1:-1]\n",
    "    ticker_10 = str(ticker[:10])[1:-1]\n",
    "    with open(\"/home/jazzdung/Project III/Airflow/data/ticker.txt\", \"w+\") as outfile:\n",
    "        outfile.write(ticker_full)\n",
    "\n",
    "    with open(\"/home/jazzdung/Project III/Airflow/data/ticker_10.txt\", \"w+\") as outfile:\n",
    "        outfile.write(ticker_10)\n",
    "\n",
    "    print(\"Save ticker successfully!\")"
   ]
  },
  {
   "cell_type": "code",
   "execution_count": 5,
   "metadata": {},
   "outputs": [
    {
     "name": "stdout",
     "output_type": "stream",
     "text": [
      "Save ticker successfully!\n"
     ]
    }
   ],
   "source": [
    "data_to_txt()"
   ]
  },
  {
   "cell_type": "code",
   "execution_count": 8,
   "metadata": {},
   "outputs": [
    {
     "name": "stdout",
     "output_type": "stream",
     "text": [
      "10\n"
     ]
    }
   ],
   "source": [
    "tickers = Path(\"/home/jazzdung/Project III/Airflow/data/ticker_10.txt\").read_text().split(\"', '\")\n",
    "print(len(tickers))"
   ]
  }
 ],
 "metadata": {
  "kernelspec": {
   "display_name": "Python 3",
   "language": "python",
   "name": "python3"
  },
  "language_info": {
   "codemirror_mode": {
    "name": "ipython",
    "version": 3
   },
   "file_extension": ".py",
   "mimetype": "text/x-python",
   "name": "python",
   "nbconvert_exporter": "python",
   "pygments_lexer": "ipython3",
   "version": "3.10.6 (main, Nov 14 2022, 16:10:14) [GCC 11.3.0]"
  },
  "orig_nbformat": 4,
  "vscode": {
   "interpreter": {
    "hash": "916dbcbb3f70747c44a77c7bcd40155683ae19c65e1c03b4aa3499c5328201f1"
   }
  }
 },
 "nbformat": 4,
 "nbformat_minor": 2
}
