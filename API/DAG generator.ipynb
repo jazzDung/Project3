{
 "cells": [
  {
   "cell_type": "code",
   "execution_count": 2,
   "metadata": {},
   "outputs": [],
   "source": [
    "from vnstock import *\n",
    "import pandas as pd\n",
    "import numpy as np\n",
    "import re\n",
    "import datetime\n",
    "# from math import *"
   ]
  },
  {
   "cell_type": "code",
   "execution_count": 3,
   "metadata": {},
   "outputs": [],
   "source": [
    "stock_history = pd.read_csv(\"/home/jazzdung/Project III/Formatted Data/Stock History.csv\")\n",
    "income_statement = pd.read_csv(\"/home/jazzdung/Project III/Formatted Data/Income Statement.csv\")\n",
    "balance_sheet = pd.read_csv(\"/home/jazzdung/Project III/Formatted Data/Balance Sheet.csv\")\n",
    "cash_flow = pd.read_csv(\"/home/jazzdung/Project III/Formatted Data/Cash Flow.csv\")\n",
    "listing_companies = pd.read_csv(\"/home/jazzdung/Project III/Formatted Data/Listing Companies.csv\")\n",
    "financial_ratio = pd.read_csv(\"/home/jazzdung/Project III/Formatted Data/Financial Ratio.csv\")\n",
    "stock_intraday = pd.read_csv(\"/home/jazzdung/Project III/Formatted Data/Stock Intraday Transaction.csv\")\n",
    "\n",
    "general_rating = pd.read_csv(\"/home/jazzdung/Project III/Formatted Data/General Rating.csv\")\n",
    "business_model_rating = pd.read_csv(\"/home/jazzdung/Project III/Formatted Data/Business Model Rating.csv\")\n",
    "business_operation_rating = pd.read_csv(\"/home/jazzdung/Project III/Formatted Data/Business Operation Rating.csv\")\n",
    "financial_health_rating = pd.read_csv(\"/home/jazzdung/Project III/Formatted Data/Financial Health Rating.csv\")\n",
    "valuation_rating = pd.read_csv(\"/home/jazzdung/Project III/Formatted Data/Valuation Rating.csv\")\n",
    "industry_financial_health = pd.read_csv(\"/home/jazzdung/Project III/Formatted Data/Industry Financial Health.csv\")"
   ]
  },
  {
   "attachments": {},
   "cell_type": "markdown",
   "metadata": {},
   "source": [
    "## Dag generator"
   ]
  },
  {
   "cell_type": "code",
   "execution_count": 26,
   "metadata": {},
   "outputs": [],
   "source": [
    "def dag_generator(df, eq, name, period):\n",
    "\n",
    "    #Imports and default arguments\n",
    "    script = \"\"\"\n",
    "from airflow import DAG\n",
    "from airflow.operators.python import PythonOperator\n",
    "from datetime import timedelta\n",
    "from vnstock import *\n",
    "import pendulum\n",
    "from math import *\n",
    "import pandas as pd\n",
    "import numpy as np  \n",
    "\n",
    "default_args = {\n",
    "'owner': 'jazzdung',\n",
    "'retries':5,\n",
    "'retry_delay': timedelta(minutes=20)\n",
    "}\n",
    "\n",
    "    \"\"\"\n",
    "\n",
    "    #calculate equation\n",
    "    result = df.eval(eq)\n",
    "    result = result.to_frame()\n",
    "    result.rename(columns={0: 'result'}, inplace=True)\n",
    "    result.head()\n",
    "\n",
    "\n",
    "\n",
    "    #Write to py file\n",
    "    with open(\"/home/jazzdung/Project III/Airflow/script/python/\" + name + \".py\", \"w+\") as dag:\n",
    "        dag.write(script)\n",
    "    \n",
    "    #Write result to csv file (Just for now)\n",
    "    result.to_csv('/home/jazzdung/Project III/Airflow/data/airflow/' + name + '.csv', sep=',', encoding='utf-8')\n",
    "\n",
    "    return result"
   ]
  },
  {
   "cell_type": "code",
   "execution_count": 27,
   "metadata": {},
   "outputs": [
    {
     "data": {
      "text/html": [
       "<div>\n",
       "<style scoped>\n",
       "    .dataframe tbody tr th:only-of-type {\n",
       "        vertical-align: middle;\n",
       "    }\n",
       "\n",
       "    .dataframe tbody tr th {\n",
       "        vertical-align: top;\n",
       "    }\n",
       "\n",
       "    .dataframe thead th {\n",
       "        text-align: right;\n",
       "    }\n",
       "</style>\n",
       "<table border=\"1\" class=\"dataframe\">\n",
       "  <thead>\n",
       "    <tr style=\"text-align: right;\">\n",
       "      <th></th>\n",
       "      <th>result</th>\n",
       "    </tr>\n",
       "  </thead>\n",
       "  <tbody>\n",
       "    <tr>\n",
       "      <th>0</th>\n",
       "      <td>29.0</td>\n",
       "    </tr>\n",
       "    <tr>\n",
       "      <th>1</th>\n",
       "      <td>22.0</td>\n",
       "    </tr>\n",
       "    <tr>\n",
       "      <th>2</th>\n",
       "      <td>10.0</td>\n",
       "    </tr>\n",
       "    <tr>\n",
       "      <th>3</th>\n",
       "      <td>379.0</td>\n",
       "    </tr>\n",
       "    <tr>\n",
       "      <th>4</th>\n",
       "      <td>27.0</td>\n",
       "    </tr>\n",
       "    <tr>\n",
       "      <th>...</th>\n",
       "      <td>...</td>\n",
       "    </tr>\n",
       "    <tr>\n",
       "      <th>67108</th>\n",
       "      <td>0.0</td>\n",
       "    </tr>\n",
       "    <tr>\n",
       "      <th>67109</th>\n",
       "      <td>NaN</td>\n",
       "    </tr>\n",
       "    <tr>\n",
       "      <th>67110</th>\n",
       "      <td>0.0</td>\n",
       "    </tr>\n",
       "    <tr>\n",
       "      <th>67111</th>\n",
       "      <td>5.0</td>\n",
       "    </tr>\n",
       "    <tr>\n",
       "      <th>67112</th>\n",
       "      <td>0.0</td>\n",
       "    </tr>\n",
       "  </tbody>\n",
       "</table>\n",
       "<p>67113 rows × 1 columns</p>\n",
       "</div>"
      ],
      "text/plain": [
       "       result\n",
       "0        29.0\n",
       "1        22.0\n",
       "2        10.0\n",
       "3       379.0\n",
       "4        27.0\n",
       "...       ...\n",
       "67108     0.0\n",
       "67109     NaN\n",
       "67110     0.0\n",
       "67111     5.0\n",
       "67112     0.0\n",
       "\n",
       "[67113 rows x 1 columns]"
      ]
     },
     "execution_count": 27,
     "metadata": {},
     "output_type": "execute_result"
    }
   ],
   "source": [
    "dag_generator(balance_sheet, 'longAsset - fixedAsset', 'testing', None)"
   ]
  }
 ],
 "metadata": {
  "kernelspec": {
   "display_name": "Python 3",
   "language": "python",
   "name": "python3"
  },
  "language_info": {
   "codemirror_mode": {
    "name": "ipython",
    "version": 3
   },
   "file_extension": ".py",
   "mimetype": "text/x-python",
   "name": "python",
   "nbconvert_exporter": "python",
   "pygments_lexer": "ipython3",
   "version": "3.10.6 (main, Nov 14 2022, 16:10:14) [GCC 11.3.0]"
  },
  "orig_nbformat": 4,
  "vscode": {
   "interpreter": {
    "hash": "916dbcbb3f70747c44a77c7bcd40155683ae19c65e1c03b4aa3499c5328201f1"
   }
  }
 },
 "nbformat": 4,
 "nbformat_minor": 2
}
